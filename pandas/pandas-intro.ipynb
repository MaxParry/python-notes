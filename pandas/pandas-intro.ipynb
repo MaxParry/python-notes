{
 "cells": [
  {
   "cell_type": "code",
   "execution_count": null,
   "metadata": {},
   "outputs": [],
   "source": [
    "print('Jello World')"
   ]
  },
  {
   "cell_type": "markdown",
   "metadata": {},
   "source": [
    "# This is markdown\n",
    "*markdown shortcut is esc, m, click in **cell***\n",
    "## This is a subheading\n",
    "1. This\n",
    "2. Is\n",
    "3. A\n",
    "4. List\n",
    "    a. This is a\n",
    "    b. Sublist\n",
    "        * bullet\n",
    "        * bullet\n",
    "            * sub bullet\n",
    "            * sub bullet\n",
    "                * super sub bullet\n",
    "\n",
    "### Here are some other things you can do:\n",
    "> This is a way to make a\n",
    "> self-wrapped quote\n",
    "\n",
    "$ e $\n",
    "\n",
    "' this is monospace font '"
   ]
  },
  {
   "cell_type": "code",
   "execution_count": null,
   "metadata": {},
   "outputs": [],
   "source": []
  }
 ],
 "metadata": {
  "kernelspec": {
   "display_name": "Python 3",
   "language": "python",
   "name": "python3"
  },
  "language_info": {
   "codemirror_mode": {
    "name": "ipython",
    "version": 3
   },
   "file_extension": ".py",
   "mimetype": "text/x-python",
   "name": "python",
   "nbconvert_exporter": "python",
   "pygments_lexer": "ipython3",
   "version": "3.6.3"
  }
 },
 "nbformat": 4,
 "nbformat_minor": 2
}
