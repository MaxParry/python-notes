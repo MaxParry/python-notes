{
 "cells": [
  {
   "cell_type": "markdown",
   "metadata": {},
   "source": [
    "# Pandas Practice, Dataframe Manipulation\n",
    "\n",
    "*This is a notebook to describe basic dataframe manipulation with the **pandas** python module*\n",
    "\n",
    "Pandas documentation can be found at [Pandas](https://pandas.pydata.org/pandas-docs/stable/)"
   ]
  },
  {
   "cell_type": "markdown",
   "metadata": {},
   "source": [
    "## Import pandas with alias"
   ]
  },
  {
   "cell_type": "code",
   "execution_count": 1,
   "metadata": {},
   "outputs": [],
   "source": [
    "import pandas as pd"
   ]
  },
  {
   "cell_type": "markdown",
   "metadata": {},
   "source": [
    "### First concept to learn is a series\n",
    "\n",
    "- a series is a one-dimensional list"
   ]
  },
  {
   "cell_type": "markdown",
   "metadata": {},
   "source": [
    "## Reading a csv file\n",
    "\n",
    "- note that pressing tab after pd. will give a list of possible functions\n",
    "    - also, if you hit tab after typing ```'/'``` or ```'../'```, you will get a list of directories on you machine to choose from\n",
    "    - tab again will allow you to choose directories or files in that directory\n",
    "    -remember you are in a directory right now, the one you opened the jupyter notebook in\n",
    "\n",
    "1. first argument of ```pandas.read_csv()``` is the directory location\n",
    "2. another argument is separator:  ```sep=''```\n",
    "3. another is encoding: ```encoding='ISO-8859-1'```"
   ]
  },
  {
   "cell_type": "code",
   "execution_count": null,
   "metadata": {},
   "outputs": [],
   "source": [
    "pd.read_csv('/')"
   ]
  }
 ],
 "metadata": {
  "kernelspec": {
   "display_name": "Python 3",
   "language": "python",
   "name": "python3"
  },
  "language_info": {
   "codemirror_mode": {
    "name": "ipython",
    "version": 3
   },
   "file_extension": ".py",
   "mimetype": "text/x-python",
   "name": "python",
   "nbconvert_exporter": "python",
   "pygments_lexer": "ipython3",
   "version": "3.6.3"
  }
 },
 "nbformat": 4,
 "nbformat_minor": 2
}
