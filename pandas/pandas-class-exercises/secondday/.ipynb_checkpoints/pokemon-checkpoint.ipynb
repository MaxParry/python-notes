{
 "cells": [
  {
   "cell_type": "markdown",
   "metadata": {},
   "source": [
    "•\tInstructions:\n",
    "o\t\n",
    "Read the Pokemon CSV file with Pandas.\n",
    "o\t\n",
    "Create a new table by extracting the following columns: \"Type 1\", \"HP\", \"Attack\", \"Sp. Atk\", \"Sp. Def\", and \"Speed\".\n",
    "o\t\n",
    "\n",
    "Find the average stats for each type of Pokemon.\n",
    "o\t\n",
    "Create a new DataFrame out of the averages.\n",
    "o\t\n",
    "calculate the total power level of each type of pokemon by adding all of the previous stats together and place the results into a new column.\n",
    "•\t\n",
    "Bonus:\n",
    "o\t\n",
    "Sort the table by strongest type and export the resulting table to a new CSV\n"
   ]
  },
  {
   "cell_type": "code",
   "execution_count": 2,
   "metadata": {},
   "outputs": [],
   "source": [
    "# Dependencies\n",
    "import pandas as pd"
   ]
  },
  {
   "cell_type": "code",
   "execution_count": 2,
   "metadata": {
    "collapsed": true
   },
   "outputs": [],
   "source": [
    "# File to load"
   ]
  },
  {
   "cell_type": "code",
   "execution_count": 3,
   "metadata": {
    "collapsed": true
   },
   "outputs": [],
   "source": [
    "# Read with Pandas"
   ]
  },
  {
   "cell_type": "code",
   "execution_count": null,
   "metadata": {
    "collapsed": true
   },
   "outputs": [],
   "source": [
    "# Total unique types of pokemon"
   ]
  }
 ],
 "metadata": {
  "anaconda-cloud": {},
  "kernelspec": {
   "display_name": "Python 3",
   "language": "python",
   "name": "python3"
  },
  "language_info": {
   "codemirror_mode": {
    "name": "ipython",
    "version": 3
   },
   "file_extension": ".py",
   "mimetype": "text/x-python",
   "name": "python",
   "nbconvert_exporter": "python",
   "pygments_lexer": "ipython3",
   "version": "3.6.3"
  }
 },
 "nbformat": 4,
 "nbformat_minor": 2
}
