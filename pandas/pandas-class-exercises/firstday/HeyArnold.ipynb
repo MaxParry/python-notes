{
 "cells": [
  {
   "cell_type": "markdown",
   "metadata": {},
   "source": [
    "# Hey, Arnold!\n",
    "*This assignment will give you experience creating DataFrames from scratch.*\n",
    " - You will create a pandas DataFrame of characters from this TV show: https://en.wikipedia.org/wiki/Hey_Arnold!\n",
    "\n",
    "## Instructions\n",
    " 1.\tFirst, use Pandas to create a DataFrame with the following columns and values:\n",
    "  \n",
    "  - Character_in_show: Arnold, Gerald, Helga, Phoebe, Harold, Eugene\n",
    "  - color_of_hair: blonde, black, blonde, black, unknown, red\n",
    "  - Height: average, tallish, tallish, short, tall, short\n",
    "  - Football_Shaped_Head: True, False, False, False, False, False\n",
    "  \n",
    "  \n",
    " 2.\tYou'll note that the above column names are inconsistent and difficult to work with. Rename them to the following, respectively:\n",
    "  \n",
    "  - Character, Hair Color, Height, Football Head\n",
    "  \n",
    "  \n",
    " 3.\tNext, create a new table that contains all of the columns in the following order...\n",
    "  \n",
    "  - Character, Football Head, Hair Color, Height\n",
    "  \n",
    "  \n",
    " 4.\tFinally, save the file in Excel format.."
   ]
  },
  {
   "cell_type": "code",
   "execution_count": 24,
   "metadata": {},
   "outputs": [],
   "source": [
    "import numpy as np\n",
    "import pandas as pd"
   ]
  },
  {
   "cell_type": "code",
   "execution_count": 25,
   "metadata": {},
   "outputs": [],
   "source": [
    "chardict = {'character_in_show': ['Arnold', 'Gerald', 'Helga', 'Phoebe', 'Harold', 'Eugene'],\n",
    "            'color_of_hair': ['blonde', 'black', 'blonde', 'black', 'unknown', 'red'],\n",
    "            'height': ['average', 'tallish', 'tallish', 'short', 'tall', 'short'],\n",
    "            'football_shaped_head': [True, False, False, False, False, False]}"
   ]
  },
  {
   "cell_type": "code",
   "execution_count": 26,
   "metadata": {},
   "outputs": [],
   "source": [
    "hadf = pd.DataFrame(chardict)"
   ]
  },
  {
   "cell_type": "code",
   "execution_count": 28,
   "metadata": {},
   "outputs": [],
   "source": [
    "hadf.rename(columns={'character_in_show':'character',\n",
    "                     'color_of_hair':'hair color', \n",
    "                     'football_shaped_head':'football head'}, inplace=True)"
   ]
  },
  {
   "cell_type": "markdown",
   "metadata": {},
   "source": [
    "Above argument, ```inplace=True``` is used if you want to rename the dataframe itself (rather than returning the modified dataframe and assigning it to a new variable)"
   ]
  },
  {
   "cell_type": "code",
   "execution_count": 29,
   "metadata": {},
   "outputs": [],
   "source": [
    "hadf = hadf[['character', 'football head', 'hair color', 'height']]"
   ]
  },
  {
   "cell_type": "code",
   "execution_count": 31,
   "metadata": {},
   "outputs": [
    {
     "data": {
      "text/html": [
       "<div>\n",
       "<style scoped>\n",
       "    .dataframe tbody tr th:only-of-type {\n",
       "        vertical-align: middle;\n",
       "    }\n",
       "\n",
       "    .dataframe tbody tr th {\n",
       "        vertical-align: top;\n",
       "    }\n",
       "\n",
       "    .dataframe thead th {\n",
       "        text-align: right;\n",
       "    }\n",
       "</style>\n",
       "<table border=\"1\" class=\"dataframe\">\n",
       "  <thead>\n",
       "    <tr style=\"text-align: right;\">\n",
       "      <th></th>\n",
       "      <th>character</th>\n",
       "      <th>football head</th>\n",
       "      <th>hair color</th>\n",
       "      <th>height</th>\n",
       "    </tr>\n",
       "  </thead>\n",
       "  <tbody>\n",
       "    <tr>\n",
       "      <th>0</th>\n",
       "      <td>Arnold</td>\n",
       "      <td>True</td>\n",
       "      <td>blonde</td>\n",
       "      <td>average</td>\n",
       "    </tr>\n",
       "    <tr>\n",
       "      <th>1</th>\n",
       "      <td>Gerald</td>\n",
       "      <td>False</td>\n",
       "      <td>black</td>\n",
       "      <td>tallish</td>\n",
       "    </tr>\n",
       "    <tr>\n",
       "      <th>2</th>\n",
       "      <td>Helga</td>\n",
       "      <td>False</td>\n",
       "      <td>blonde</td>\n",
       "      <td>tallish</td>\n",
       "    </tr>\n",
       "    <tr>\n",
       "      <th>3</th>\n",
       "      <td>Phoebe</td>\n",
       "      <td>False</td>\n",
       "      <td>black</td>\n",
       "      <td>short</td>\n",
       "    </tr>\n",
       "    <tr>\n",
       "      <th>4</th>\n",
       "      <td>Harold</td>\n",
       "      <td>False</td>\n",
       "      <td>unknown</td>\n",
       "      <td>tall</td>\n",
       "    </tr>\n",
       "    <tr>\n",
       "      <th>5</th>\n",
       "      <td>Eugene</td>\n",
       "      <td>False</td>\n",
       "      <td>red</td>\n",
       "      <td>short</td>\n",
       "    </tr>\n",
       "  </tbody>\n",
       "</table>\n",
       "</div>"
      ],
      "text/plain": [
       "  character  football head hair color   height\n",
       "0    Arnold           True     blonde  average\n",
       "1    Gerald          False      black  tallish\n",
       "2     Helga          False     blonde  tallish\n",
       "3    Phoebe          False      black    short\n",
       "4    Harold          False    unknown     tall\n",
       "5    Eugene          False        red    short"
      ]
     },
     "execution_count": 31,
     "metadata": {},
     "output_type": "execute_result"
    }
   ],
   "source": [
    "hadf"
   ]
  },
  {
   "cell_type": "markdown",
   "metadata": {},
   "source": [
    "Above, you can see that calling out the column names with double brackets returns the dataframe in different column order.\n",
    "Let see what happens if not all are mentioned:"
   ]
  },
  {
   "cell_type": "code",
   "execution_count": 34,
   "metadata": {},
   "outputs": [
    {
     "data": {
      "text/html": [
       "<div>\n",
       "<style scoped>\n",
       "    .dataframe tbody tr th:only-of-type {\n",
       "        vertical-align: middle;\n",
       "    }\n",
       "\n",
       "    .dataframe tbody tr th {\n",
       "        vertical-align: top;\n",
       "    }\n",
       "\n",
       "    .dataframe thead th {\n",
       "        text-align: right;\n",
       "    }\n",
       "</style>\n",
       "<table border=\"1\" class=\"dataframe\">\n",
       "  <thead>\n",
       "    <tr style=\"text-align: right;\">\n",
       "      <th></th>\n",
       "      <th>character</th>\n",
       "    </tr>\n",
       "  </thead>\n",
       "  <tbody>\n",
       "    <tr>\n",
       "      <th>0</th>\n",
       "      <td>Arnold</td>\n",
       "    </tr>\n",
       "    <tr>\n",
       "      <th>1</th>\n",
       "      <td>Gerald</td>\n",
       "    </tr>\n",
       "    <tr>\n",
       "      <th>2</th>\n",
       "      <td>Helga</td>\n",
       "    </tr>\n",
       "    <tr>\n",
       "      <th>3</th>\n",
       "      <td>Phoebe</td>\n",
       "    </tr>\n",
       "    <tr>\n",
       "      <th>4</th>\n",
       "      <td>Harold</td>\n",
       "    </tr>\n",
       "    <tr>\n",
       "      <th>5</th>\n",
       "      <td>Eugene</td>\n",
       "    </tr>\n",
       "  </tbody>\n",
       "</table>\n",
       "</div>"
      ],
      "text/plain": [
       "  character\n",
       "0    Arnold\n",
       "1    Gerald\n",
       "2     Helga\n",
       "3    Phoebe\n",
       "4    Harold\n",
       "5    Eugene"
      ]
     },
     "execution_count": 34,
     "metadata": {},
     "output_type": "execute_result"
    }
   ],
   "source": [
    "hadf[['character']]"
   ]
  },
  {
   "cell_type": "markdown",
   "metadata": {},
   "source": [
    "Now we will write the reordered dataframe to a .csv file:"
   ]
  },
  {
   "cell_type": "code",
   "execution_count": 36,
   "metadata": {},
   "outputs": [],
   "source": [
    "hadf.to_csv('../output_data/heyarnold.csv', sep=',', index=False)"
   ]
  },
  {
   "cell_type": "markdown",
   "metadata": {},
   "source": [
    "checking in the ```output_data``` folder, you can see it worked.\n",
    " - first argument is filepath\n",
    " - second is delimiter\n",
    " - third is whether to include the index"
   ]
  },
  {
   "cell_type": "code",
   "execution_count": null,
   "metadata": {},
   "outputs": [],
   "source": []
  }
 ],
 "metadata": {
  "kernelspec": {
   "display_name": "Python 3",
   "language": "python",
   "name": "python3"
  },
  "language_info": {
   "codemirror_mode": {
    "name": "ipython",
    "version": 3
   },
   "file_extension": ".py",
   "mimetype": "text/x-python",
   "name": "python",
   "nbconvert_exporter": "python",
   "pygments_lexer": "ipython3",
   "version": "3.6.3"
  }
 },
 "nbformat": 4,
 "nbformat_minor": 2
}
