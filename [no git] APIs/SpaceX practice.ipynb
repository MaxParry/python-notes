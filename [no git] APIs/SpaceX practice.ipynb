{
 "cells": [
  {
   "cell_type": "code",
   "execution_count": 6,
   "metadata": {},
   "outputs": [],
   "source": [
    "import requests as req"
   ]
  },
  {
   "cell_type": "code",
   "execution_count": 7,
   "metadata": {},
   "outputs": [],
   "source": [
    "import json"
   ]
  },
  {
   "cell_type": "code",
   "execution_count": 8,
   "metadata": {},
   "outputs": [],
   "source": [
    "url = \"https://api.spacexdata.com/v2/launches/latest\""
   ]
  },
  {
   "cell_type": "code",
   "execution_count": 11,
   "metadata": {},
   "outputs": [],
   "source": [
    "response = req.get(url).json()"
   ]
  },
  {
   "cell_type": "code",
   "execution_count": 13,
   "metadata": {},
   "outputs": [
    {
     "name": "stdout",
     "output_type": "stream",
     "text": [
      "{\n",
      "    \"details\": \"KoreaSat 5A is a Ku-band satellite capable of providing communication services from East Africa and Central Asia to southern India, Southeast Asia, the Philippines, Guam, Korea, and Japan. The satellite will be placed in GEO at 113\\u00c2\\u00b0 East Longitude, and will provide services ranging from broadband internet to broadcasting services and maritime communications.\",\n",
      "    \"flight_number\": 50,\n",
      "    \"launch_date_local\": \"2017-10-30T15:34:00-04:00\",\n",
      "    \"launch_date_unix\": 1509392040,\n",
      "    \"launch_date_utc\": \"2017-10-30T19:34:00Z\",\n",
      "    \"launch_site\": {\n",
      "        \"site_id\": \"ksc_lc_39a\",\n",
      "        \"site_name\": \"KSC LC 39A\",\n",
      "        \"site_name_long\": \"Kennedy Space Center Historic Launch Complex 39A\"\n",
      "    },\n",
      "    \"launch_success\": true,\n",
      "    \"launch_year\": \"2017\",\n",
      "    \"links\": {\n",
      "        \"article_link\": \"https://spaceflightnow.com/2017/10/30/spacex-launches-and-lands-third-rocket-in-three-weeks/\",\n",
      "        \"mission_patch\": \"http://spacexpatchlist.space/patches/spacex_f9_044_koreasat_5a_graphic.png\",\n",
      "        \"presskit\": \"http://www.spacex.com/sites/spacex/files/koreasat5apresskit.pdf\",\n",
      "        \"reddit_campaign\": \"https://www.reddit.com/r/spacex/comments/73ttkd/koreasat_5a_launch_campaign_thread/\",\n",
      "        \"reddit_launch\": \"https://www.reddit.com/r/spacex/comments/79iuvb/rspacex_koreasat_5a_official_launch_discussion/\",\n",
      "        \"reddit_media\": \"https://www.reddit.com/r/spacex/comments/79lmdu/rspacex_koreasat5a_media_thread_videos_images/\",\n",
      "        \"reddit_recovery\": null,\n",
      "        \"video_link\": \"https://www.youtube.com/watch?v=RUjH14vhLxA\"\n",
      "    },\n",
      "    \"reuse\": {\n",
      "        \"capsule\": false,\n",
      "        \"core\": false,\n",
      "        \"fairings\": false,\n",
      "        \"side_core1\": false,\n",
      "        \"side_core2\": false\n",
      "    },\n",
      "    \"rocket\": {\n",
      "        \"first_stage\": {\n",
      "            \"cores\": [\n",
      "                {\n",
      "                    \"core_serial\": \"B1042\",\n",
      "                    \"land_success\": true,\n",
      "                    \"landing_type\": \"ASDS\",\n",
      "                    \"landing_vehicle\": \"OCISLY\",\n",
      "                    \"reused\": false\n",
      "                }\n",
      "            ]\n",
      "        },\n",
      "        \"rocket_id\": \"falcon9\",\n",
      "        \"rocket_name\": \"Falcon 9\",\n",
      "        \"rocket_type\": \"FT\",\n",
      "        \"second_stage\": {\n",
      "            \"payloads\": [\n",
      "                {\n",
      "                    \"customers\": [\n",
      "                        \"KT Corporation\"\n",
      "                    ],\n",
      "                    \"orbit\": \"GTO\",\n",
      "                    \"payload_id\": \"KoreaSat 5A\",\n",
      "                    \"payload_mass_kg\": 3700,\n",
      "                    \"payload_mass_lbs\": 8157.104,\n",
      "                    \"payload_type\": \"Satellite\",\n",
      "                    \"reused\": false\n",
      "                }\n",
      "            ]\n",
      "        }\n",
      "    },\n",
      "    \"telemetry\": {\n",
      "        \"flight_club\": null\n",
      "    }\n",
      "}\n"
     ]
    }
   ],
   "source": [
    "print(json.dumps(response, indent=4, sort_keys=True))"
   ]
  },
  {
   "cell_type": "code",
   "execution_count": 21,
   "metadata": {},
   "outputs": [
    {
     "ename": "KeyError",
     "evalue": "'second_stage'",
     "output_type": "error",
     "traceback": [
      "\u001b[0;31m---------------------------------------------------------------------------\u001b[0m",
      "\u001b[0;31mKeyError\u001b[0m                                  Traceback (most recent call last)",
      "\u001b[0;32m<ipython-input-21-6d75e537f243>\u001b[0m in \u001b[0;36m<module>\u001b[0;34m()\u001b[0m\n\u001b[0;32m----> 1\u001b[0;31m \u001b[0mresponse\u001b[0m\u001b[0;34m[\u001b[0m\u001b[0;34m'second_stage'\u001b[0m\u001b[0;34m]\u001b[0m\u001b[0;34m\u001b[0m\u001b[0m\n\u001b[0m",
      "\u001b[0;31mKeyError\u001b[0m: 'second_stage'"
     ]
    }
   ],
   "source": [
    "response['second_stage']"
   ]
  },
  {
   "cell_type": "code",
   "execution_count": null,
   "metadata": {},
   "outputs": [],
   "source": []
  }
 ],
 "metadata": {
  "kernelspec": {
   "display_name": "Python 3",
   "language": "python",
   "name": "python3"
  },
  "language_info": {
   "codemirror_mode": {
    "name": "ipython",
    "version": 3
   },
   "file_extension": ".py",
   "mimetype": "text/x-python",
   "name": "python",
   "nbconvert_exporter": "python",
   "pygments_lexer": "ipython3",
   "version": "3.6.3"
  }
 },
 "nbformat": 4,
 "nbformat_minor": 2
}
