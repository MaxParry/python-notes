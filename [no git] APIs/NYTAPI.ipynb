{
 "cells": [
  {
   "cell_type": "markdown",
   "metadata": {},
   "source": [
    "Register API Here: \n",
    "https://developer.nytimes.com/\n",
    "\n",
    "Instructions:\n",
    "- Save the NYT API endpoint to a variable. Make sure you include the right query parameter to retrieve JSON data!\n",
    "- Register for and save your API Key to a variable.\n",
    "- Decide on a search term, and save it to a variable.\n",
    "- Limit your search to articles published within a range of dates—for example, only articles published in 2014. Hint: Read the documentation on end_date.\n",
    "- Build your query URL, and save it to a variable.\n",
    "- Retrieve your list of articles with a GET request.\n",
    "- Take a look at the documentation. How do you get ahold of the articles in the response?\n",
    "- Store each article in the response inside of a list.\n",
    "- Print a snippet from each article.\n",
    "- As a bonus, try to figure out how we could get 30 results. Hint: Look up the page query parameter. If you get a message saying you've exceeded your rate limit, don't fret—you've solved the problem.\n",
    "\n"
   ]
  },
  {
   "cell_type": "code",
   "execution_count": 28,
   "metadata": {},
   "outputs": [],
   "source": [
    "import requests as req\n",
    "import json"
   ]
  },
  {
   "cell_type": "code",
   "execution_count": 29,
   "metadata": {},
   "outputs": [],
   "source": [
    "apikey = 'api-key=164b73c522a8420c8e05343ef1da0a7e'"
   ]
  },
  {
   "cell_type": "code",
   "execution_count": 30,
   "metadata": {},
   "outputs": [],
   "source": [
    "baseurl = 'https://api.nytimes.com/svc/search/v2/articlesearch.json?'\n",
    "queryparam = '&q='\n",
    "enddate = '&end_date=20140101'\n",
    "url = baseurl + apikey + enddate + queryparam"
   ]
  },
  {
   "cell_type": "code",
   "execution_count": 31,
   "metadata": {},
   "outputs": [],
   "source": [
    "search_term = 'bananas'"
   ]
  },
  {
   "cell_type": "code",
   "execution_count": 32,
   "metadata": {},
   "outputs": [],
   "source": [
    "newurl = url + search_term"
   ]
  },
  {
   "cell_type": "code",
   "execution_count": 33,
   "metadata": {},
   "outputs": [
    {
     "data": {
      "text/plain": [
       "'https://api.nytimes.com/svc/search/v2/articlesearch.json?api-key=164b73c522a8420c8e05343ef1da0a7e&end_date=20140101&q=bananas'"
      ]
     },
     "execution_count": 33,
     "metadata": {},
     "output_type": "execute_result"
    }
   ],
   "source": [
    "newurl"
   ]
  },
  {
   "cell_type": "code",
   "execution_count": null,
   "metadata": {},
   "outputs": [],
   "source": []
  }
 ],
 "metadata": {
  "kernelspec": {
   "display_name": "Python 3",
   "language": "python",
   "name": "python3"
  },
  "language_info": {
   "codemirror_mode": {
    "name": "ipython",
    "version": 3
   },
   "file_extension": ".py",
   "mimetype": "text/x-python",
   "name": "python",
   "nbconvert_exporter": "python",
   "pygments_lexer": "ipython3",
   "version": "3.6.3"
  }
 },
 "nbformat": 4,
 "nbformat_minor": 2
}
