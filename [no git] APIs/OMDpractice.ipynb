{
 "cells": [
  {
   "cell_type": "markdown",
   "metadata": {},
   "source": [
    "#### Instructions:\n",
    "\n",
    "Using the Numbers API, create an application that takes in a user's inputs and returns a number fact based upon it.\n",
    "\n",
    "Hints:\n",
    "- The URL to make your request to must have ?json at its end so that the data format returned is JSON. The default response is pure text.\n",
    "- Make sure to read through the documentation when creating your application. Some types require more or less data than others.\n"
   ]
  },
  {
   "cell_type": "code",
   "execution_count": 2,
   "metadata": {},
   "outputs": [],
   "source": [
    "import requests\n",
    "import json"
   ]
  },
  {
   "cell_type": "code",
   "execution_count": 3,
   "metadata": {},
   "outputs": [],
   "source": [
    "# Note that the ?t= is a query param for the t-itle of the\n",
    "# movie we want to search for.\n",
    "url = \"http://www.omdbapi.com/?t=\"\n",
    "api_key = \"&apikey=40e9cece\""
   ]
  },
  {
   "cell_type": "code",
   "execution_count": 4,
   "metadata": {},
   "outputs": [],
   "source": [
    "# Performing a GET request similar to the one we executed\n",
    "# earlier\n",
    "response = requests.get(url + \"Aliens\" + api_key)"
   ]
  },
  {
   "cell_type": "code",
   "execution_count": 5,
   "metadata": {},
   "outputs": [
    {
     "name": "stdout",
     "output_type": "stream",
     "text": [
      "{'Title': 'Aliens', 'Year': '1986', 'Rated': 'R', 'Released': '18 Jul 1986', 'Runtime': '137 min', 'Genre': 'Action, Adventure, Sci-Fi', 'Director': 'James Cameron', 'Writer': \"James Cameron (story by), David Giler (story by), Walter Hill (story by), Dan O'Bannon (based on characters created by), Ronald Shusett (based on characters created by), James Cameron (screenplay by)\", 'Actors': 'Sigourney Weaver, Carrie Henn, Michael Biehn, Paul Reiser', 'Plot': '57 years later, Ellen Ripley is rescued by a deep salvage team during her hypersleep. The moon from the original movie has been colonized, but contact is lost. This time, colonial marines have impressive firepower, but will that be enough?', 'Language': 'English', 'Country': 'USA', 'Awards': 'Won 2 Oscars. Another 18 wins & 22 nominations.', 'Poster': 'https://images-na.ssl-images-amazon.com/images/M/MV5BYzVlMWViZGEtYjEyYy00YWZmLThmZGEtYmM4MDZlN2Q5MmRmXkEyXkFqcGdeQXVyMTQxNzMzNDI@._V1_SX300.jpg', 'Ratings': [{'Source': 'Internet Movie Database', 'Value': '8.4/10'}, {'Source': 'Rotten Tomatoes', 'Value': '98%'}, {'Source': 'Metacritic', 'Value': '86/100'}], 'Metascore': '86', 'imdbRating': '8.4', 'imdbVotes': '545,454', 'imdbID': 'tt0090605', 'Type': 'movie', 'DVD': '01 Jun 1999', 'BoxOffice': 'N/A', 'Production': '20th Century Fox Film Corporat', 'Website': 'N/A', 'Response': 'True'}\n"
     ]
    }
   ],
   "source": [
    "# Converting the response to JSON, and printing the result.\n",
    "thejson = response.json()\n",
    "print(thejson)"
   ]
  },
  {
   "cell_type": "code",
   "execution_count": 6,
   "metadata": {},
   "outputs": [
    {
     "name": "stdout",
     "output_type": "stream",
     "text": [
      "Movie was directed by James Cameron\n",
      "Movie was released in USA\n"
     ]
    }
   ],
   "source": [
    "# Print a few keys from the response JSON.\n",
    "print(\"Movie was directed by \" + thejson[\"Director\"])\n",
    "print(\"Movie was released in \" + thejson[\"Country\"])"
   ]
  },
  {
   "cell_type": "code",
   "execution_count": 7,
   "metadata": {},
   "outputs": [
    {
     "name": "stdout",
     "output_type": "stream",
     "text": [
      "{\n",
      "    \"Actors\": \"Sigourney Weaver, Carrie Henn, Michael Biehn, Paul Reiser\",\n",
      "    \"Awards\": \"Won 2 Oscars. Another 18 wins & 22 nominations.\",\n",
      "    \"BoxOffice\": \"N/A\",\n",
      "    \"Country\": \"USA\",\n",
      "    \"DVD\": \"01 Jun 1999\",\n",
      "    \"Director\": \"James Cameron\",\n",
      "    \"Genre\": \"Action, Adventure, Sci-Fi\",\n",
      "    \"Language\": \"English\",\n",
      "    \"Metascore\": \"86\",\n",
      "    \"Plot\": \"57 years later, Ellen Ripley is rescued by a deep salvage team during her hypersleep. The moon from the original movie has been colonized, but contact is lost. This time, colonial marines have impressive firepower, but will that be enough?\",\n",
      "    \"Poster\": \"https://images-na.ssl-images-amazon.com/images/M/MV5BYzVlMWViZGEtYjEyYy00YWZmLThmZGEtYmM4MDZlN2Q5MmRmXkEyXkFqcGdeQXVyMTQxNzMzNDI@._V1_SX300.jpg\",\n",
      "    \"Production\": \"20th Century Fox Film Corporat\",\n",
      "    \"Rated\": \"R\",\n",
      "    \"Ratings\": [\n",
      "        {\n",
      "            \"Source\": \"Internet Movie Database\",\n",
      "            \"Value\": \"8.4/10\"\n",
      "        },\n",
      "        {\n",
      "            \"Source\": \"Rotten Tomatoes\",\n",
      "            \"Value\": \"98%\"\n",
      "        },\n",
      "        {\n",
      "            \"Source\": \"Metacritic\",\n",
      "            \"Value\": \"86/100\"\n",
      "        }\n",
      "    ],\n",
      "    \"Released\": \"18 Jul 1986\",\n",
      "    \"Response\": \"True\",\n",
      "    \"Runtime\": \"137 min\",\n",
      "    \"Title\": \"Aliens\",\n",
      "    \"Type\": \"movie\",\n",
      "    \"Website\": \"N/A\",\n",
      "    \"Writer\": \"James Cameron (story by), David Giler (story by), Walter Hill (story by), Dan O'Bannon (based on characters created by), Ronald Shusett (based on characters created by), James Cameron (screenplay by)\",\n",
      "    \"Year\": \"1986\",\n",
      "    \"imdbID\": \"tt0090605\",\n",
      "    \"imdbRating\": \"8.4\",\n",
      "    \"imdbVotes\": \"545,454\"\n",
      "}\n"
     ]
    }
   ],
   "source": [
    "print(json.dumps(thejson, indent=4, sort_keys=True))"
   ]
  },
  {
   "cell_type": "code",
   "execution_count": 8,
   "metadata": {},
   "outputs": [
    {
     "name": "stdout",
     "output_type": "stream",
     "text": [
      "What do you want to know?  >\n"
     ]
    }
   ],
   "source": [
    "userinput = input('What do you want to know?  >')"
   ]
  },
  {
   "cell_type": "code",
   "execution_count": 16,
   "metadata": {},
   "outputs": [
    {
     "name": "stdout",
     "output_type": "stream",
     "text": [
      "Title Aliens\n",
      "Year 1986\n",
      "Rated R\n",
      "Released 18 Jul 1986\n",
      "Runtime 137 min\n",
      "Genre Action, Adventure, Sci-Fi\n",
      "Director James Cameron\n",
      "Writer James Cameron (story by), David Giler (story by), Walter Hill (story by), Dan O'Bannon (based on characters created by), Ronald Shusett (based on characters created by), James Cameron (screenplay by)\n",
      "Actors Sigourney Weaver, Carrie Henn, Michael Biehn, Paul Reiser\n",
      "Plot 57 years later, Ellen Ripley is rescued by a deep salvage team during her hypersleep. The moon from the original movie has been colonized, but contact is lost. This time, colonial marines have impressive firepower, but will that be enough?\n",
      "Language English\n",
      "Country USA\n",
      "Awards Won 2 Oscars. Another 18 wins & 22 nominations.\n",
      "Poster https://images-na.ssl-images-amazon.com/images/M/MV5BYzVlMWViZGEtYjEyYy00YWZmLThmZGEtYmM4MDZlN2Q5MmRmXkEyXkFqcGdeQXVyMTQxNzMzNDI@._V1_SX300.jpg\n",
      "Ratings [{'Source': 'Internet Movie Database', 'Value': '8.4/10'}, {'Source': 'Rotten Tomatoes', 'Value': '98%'}, {'Source': 'Metacritic', 'Value': '86/100'}]\n",
      "Metascore 86\n",
      "imdbRating 8.4\n",
      "imdbVotes 545,454\n",
      "imdbID tt0090605\n",
      "Type movie\n",
      "DVD 01 Jun 1999\n",
      "BoxOffice N/A\n",
      "Production 20th Century Fox Film Corporat\n",
      "Website N/A\n",
      "Response True\n"
     ]
    }
   ],
   "source": [
    "#for k, v in thejson:\n",
    "#    if userinput == k:\n",
    "#        output = v\n",
    "\n",
    "#print(output)\n",
    "\n",
    "for k in thejson:\n",
    "    if userinput == thejson[k]\n",
    "        output = k\n",
    "    "
   ]
  },
  {
   "cell_type": "code",
   "execution_count": 13,
   "metadata": {},
   "outputs": [
    {
     "data": {
      "text/plain": [
       "{'Actors': 'Sigourney Weaver, Carrie Henn, Michael Biehn, Paul Reiser',\n",
       " 'Awards': 'Won 2 Oscars. Another 18 wins & 22 nominations.',\n",
       " 'BoxOffice': 'N/A',\n",
       " 'Country': 'USA',\n",
       " 'DVD': '01 Jun 1999',\n",
       " 'Director': 'James Cameron',\n",
       " 'Genre': 'Action, Adventure, Sci-Fi',\n",
       " 'Language': 'English',\n",
       " 'Metascore': '86',\n",
       " 'Plot': '57 years later, Ellen Ripley is rescued by a deep salvage team during her hypersleep. The moon from the original movie has been colonized, but contact is lost. This time, colonial marines have impressive firepower, but will that be enough?',\n",
       " 'Poster': 'https://images-na.ssl-images-amazon.com/images/M/MV5BYzVlMWViZGEtYjEyYy00YWZmLThmZGEtYmM4MDZlN2Q5MmRmXkEyXkFqcGdeQXVyMTQxNzMzNDI@._V1_SX300.jpg',\n",
       " 'Production': '20th Century Fox Film Corporat',\n",
       " 'Rated': 'R',\n",
       " 'Ratings': [{'Source': 'Internet Movie Database', 'Value': '8.4/10'},\n",
       "  {'Source': 'Rotten Tomatoes', 'Value': '98%'},\n",
       "  {'Source': 'Metacritic', 'Value': '86/100'}],\n",
       " 'Released': '18 Jul 1986',\n",
       " 'Response': 'True',\n",
       " 'Runtime': '137 min',\n",
       " 'Title': 'Aliens',\n",
       " 'Type': 'movie',\n",
       " 'Website': 'N/A',\n",
       " 'Writer': \"James Cameron (story by), David Giler (story by), Walter Hill (story by), Dan O'Bannon (based on characters created by), Ronald Shusett (based on characters created by), James Cameron (screenplay by)\",\n",
       " 'Year': '1986',\n",
       " 'imdbID': 'tt0090605',\n",
       " 'imdbRating': '8.4',\n",
       " 'imdbVotes': '545,454'}"
      ]
     },
     "execution_count": 13,
     "metadata": {},
     "output_type": "execute_result"
    }
   ],
   "source": [
    "thejson"
   ]
  },
  {
   "cell_type": "code",
   "execution_count": null,
   "metadata": {},
   "outputs": [],
   "source": []
  }
 ],
 "metadata": {
  "kernelspec": {
   "display_name": "Python 3",
   "language": "python",
   "name": "python3"
  },
  "language_info": {
   "codemirror_mode": {
    "name": "ipython",
    "version": 3
   },
   "file_extension": ".py",
   "mimetype": "text/x-python",
   "name": "python",
   "nbconvert_exporter": "python",
   "pygments_lexer": "ipython3",
   "version": "3.6.3"
  }
 },
 "nbformat": 4,
 "nbformat_minor": 2
}
